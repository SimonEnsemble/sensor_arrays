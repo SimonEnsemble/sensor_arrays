{
 "cells": [
  {
   "cell_type": "code",
   "execution_count": 53,
   "metadata": {},
   "outputs": [],
   "source": [
    "using CSV\n",
    "using DataFrames\n",
    "using Printf\n",
    "using DelimitedFiles\n",
    "import PyPlot; const plt = PyPlot # now do plt.plt[:hist] for example\n",
    "using MultivariateStats\n",
    "using Optim"
   ]
  },
  {
   "cell_type": "code",
   "execution_count": 54,
   "metadata": {},
   "outputs": [
    {
     "data": {
      "text/plain": [
       "10×1 Array{Any,2}:\n",
       " \"Al-MIL-53_304K.csv\"  \n",
       " \"MIL-101_303K.csv\"    \n",
       " \"MIL-101-NH2_293K.csv\"\n",
       " \"MIL-101-NO2_293K.csv\"\n",
       " \"MIL-125_298K.csv\"    \n",
       " \"MIL-125-NH2_298K.csv\"\n",
       " \"MIL-68_298K.csv\"     \n",
       " \"MIL-68-NH2_298K.csv\" \n",
       " \"SIM-1_303K.csv\"      \n",
       " \"ZIF-8_298K.csv\"      "
      ]
     },
     "execution_count": 54,
     "metadata": {},
     "output_type": "execute_result"
    }
   ],
   "source": [
    "list_of_isotherms = readdlm(\"../data/expt_data/list_of_isotherms.txt\")"
   ]
  },
  {
   "cell_type": "code",
   "execution_count": 55,
   "metadata": {},
   "outputs": [
    {
     "data": {
      "text/plain": [
       "read_and_convert (generic function with 1 method)"
      ]
     },
     "execution_count": 55,
     "metadata": {},
     "output_type": "execute_result"
    }
   ],
   "source": [
    "function read_and_convert(isotherm_file::AbstractString)\n",
    "    @printf(\"Working on file %s\\n\", isotherm_file)\n",
    "    isotherm = CSV.read(\"../data/expt_data/\" * isotherm_file)\n",
    "    pUnit, aUnit = string.(names(isotherm))\n",
    "    \n",
    "    if pUnit == \"Pressure(bar)\"\n",
    "        @printf(\"Pressure unit is already in bar\\n\")\n",
    "    elseif pUnit == \"Pressure(torr)\"\n",
    "        isotherm[1] = isotherm[1] ./ 750.06\n",
    "        @printf(\"Converting pressure unit from torr to bar\\n\")\n",
    "    elseif pUnit == \"Pressure(kPa)\"\n",
    "        isotherm[1] = isotherm[1] ./ 100.0\n",
    "        @printf(\"Converting pressure unit from kPa to bar\\n\")\n",
    "    else\n",
    "        @printf(\"WHAT? P\\n\")\n",
    "    end\n",
    "    names!(isotherm, [Symbol(\"Pressure(bar)\"), names(isotherm)[2]])\n",
    "            \n",
    "    MW_CO2 = 44.01\n",
    "    if aUnit == \"Adsorption(mmol/g)\"\n",
    "        @printf(\"Adsorption unit is already in mmol/g\\n\")\n",
    "    elseif aUnit == \"Adsorption(mg/g)\"\n",
    "        isotherm[2] = isotherm[2] ./ MW_CO2\n",
    "        @printf(\"Converting adsorption unit from mg/g to mmol/g\\n\")\n",
    "    elseif aUnit == \"Adsorption(cm3(STP)/g)\"\n",
    "        isotherm[2] = isotherm[2] ./ 22.4\n",
    "        @printf(\"Converting adsorption unit from cm3(STP)/g to mmol/g\\n\")\n",
    "    else\n",
    "        @printf(\"WHAT? A\\n\")\n",
    "    end\n",
    "    names!(isotherm, [names(isotherm)[1], Symbol(\"Adsorption(mmol/g)\")])\n",
    "    return isotherm\n",
    "end"
   ]
  },
  {
   "cell_type": "code",
   "execution_count": 56,
   "metadata": {},
   "outputs": [
    {
     "data": {
      "text/plain": [
       "fit_henry (generic function with 1 method)"
      ]
     },
     "execution_count": 56,
     "metadata": {},
     "output_type": "execute_result"
    }
   ],
   "source": [
    "function fit_henry(df_ads::DataFrame, incl_nb_pts::Int)\n",
    "    # sort by pressure\n",
    "    sort!(df_ads, [Symbol(\"Pressure(bar)\")])\n",
    "    # build feature matrix\n",
    "    P = zeros(incl_nb_pts, 1)\n",
    "    n = zeros(incl_nb_pts)\n",
    "    for (i, row) in enumerate(eachrow(df_ads))\n",
    "        if i > incl_nb_pts\n",
    "            break\n",
    "        end\n",
    "        P[i, 1] = row[Symbol(\"Pressure(bar)\")]\n",
    "        n[i] = row[Symbol(\"Adsorption(mmol/g)\")]\n",
    "    end\n",
    "    # fit line without bias (henry coef) to determine henry coefficient\n",
    "    K = llsq(P, n; bias=false)[1]\n",
    "    return K # mmol/(g-bar)\n",
    "end"
   ]
  },
  {
   "cell_type": "code",
   "execution_count": 59,
   "metadata": {},
   "outputs": [
    {
     "data": {
      "text/plain": [
       "3"
      ]
     },
     "execution_count": 59,
     "metadata": {},
     "output_type": "execute_result"
    }
   ],
   "source": [
    "nb_pts_to_incl_in_fitting = Dict{AbstractString, Int64}()\n",
    "nb_pts_to_incl_in_fitting[\"Al-MIL-53_304K.csv\"] = 2\n",
    "nb_pts_to_incl_in_fitting[\"MIL-101_303K.csv\"] = 3\n",
    "nb_pts_to_incl_in_fitting[\"MIL-101-NH2_293K.csv\"] = 5\n",
    "nb_pts_to_incl_in_fitting[\"MIL-101-NO2_293K.csv\"] = 6\n",
    "nb_pts_to_incl_in_fitting[\"MIL-125_298K.csv\"] = 10\n",
    "nb_pts_to_incl_in_fitting[\"MIL-125-NH2_298K.csv\"] = 10\n",
    "nb_pts_to_incl_in_fitting[\"MIL-68_298K.csv\"] = 5\n",
    "nb_pts_to_incl_in_fitting[\"MIL-68-NH2_298K.csv\"] = 4\n",
    "nb_pts_to_incl_in_fitting[\"SIM-1_303K.csv\"] = 3\n",
    "nb_pts_to_incl_in_fitting[\"ZIF-8_298K.csv\"] = 3"
   ]
  },
  {
   "cell_type": "code",
   "execution_count": 74,
   "metadata": {},
   "outputs": [
    {
     "name": "stdout",
     "output_type": "stream",
     "text": [
      "Working on file Al-MIL-53_304K.csv\n",
      "Pressure unit is already in bar\n",
      "Adsorption unit is already in mmol/g\n",
      "304K.csv\n",
      "Working on file MIL-101_303K.csv\n",
      "Pressure unit is already in bar\n",
      "Adsorption unit is already in mmol/g\n",
      "303K.csv\n",
      "Working on file MIL-101-NH2_293K.csv\n",
      "Converting pressure unit from torr to bar\n",
      "Adsorption unit is already in mmol/g\n",
      "293K.csv\n",
      "Working on file MIL-101-NO2_293K.csv\n",
      "Converting pressure unit from torr to bar\n",
      "Adsorption unit is already in mmol/g\n",
      "293K.csv\n",
      "Working on file MIL-125_298K.csv\n",
      "Converting pressure unit from kPa to bar\n",
      "Converting adsorption unit from mg/g to mmol/g\n",
      "298K.csv\n",
      "Working on file MIL-125-NH2_298K.csv\n",
      "Converting pressure unit from kPa to bar\n",
      "Converting adsorption unit from mg/g to mmol/g\n",
      "298K.csv\n",
      "Working on file MIL-68_298K.csv\n",
      "Converting pressure unit from torr to bar\n",
      "Adsorption unit is already in mmol/g\n",
      "298K.csv\n",
      "Working on file MIL-68-NH2_298K.csv\n",
      "Converting pressure unit from torr to bar\n",
      "Adsorption unit is already in mmol/g\n",
      "298K.csv\n",
      "Working on file SIM-1_303K.csv\n",
      "Converting pressure unit from kPa to bar\n",
      "Converting adsorption unit from cm3(STP)/g to mmol/g\n",
      "303K.csv\n",
      "Working on file ZIF-8_298K.csv\n",
      "Pressure unit is already in bar\n",
      "Converting adsorption unit from mg/g to mmol/g\n",
      "298K.csv\n"
     ]
    }
   ],
   "source": [
    "open(\"co2_henry_coefs.csv\", \"w\") do f\n",
    "    @printf(f, \"MOF,CO2_henry coefficient [mmol/(g-bar)],Temperature [K]\\n\")\n",
    "    for MOF in list_of_isotherms\n",
    "        isotherm = read_and_convert(MOF)\n",
    "        henry = fit_henry(isotherm, nb_pts_to_incl_in_fitting[MOF])\n",
    "        mofstuff = split(MOF, \"_\")\n",
    "        println(mofstuff[2])\n",
    "        temperature = split(mofstuff[2], \"K.\")[1]\n",
    "        mofname = mofstuff[1]\n",
    "        @printf(f, \"%s,%f,%d\\n\", mofname, henry, parse(Int64, temperature))\n",
    "    end\n",
    "end"
   ]
  },
  {
   "cell_type": "code",
   "execution_count": null,
   "metadata": {},
   "outputs": [],
   "source": []
  }
 ],
 "metadata": {
  "kernelspec": {
   "display_name": "Julia 1.0.0",
   "language": "julia",
   "name": "julia-1.0"
  },
  "language_info": {
   "file_extension": ".jl",
   "mimetype": "application/julia",
   "name": "julia",
   "version": "1.0.0"
  }
 },
 "nbformat": 4,
 "nbformat_minor": 2
}
