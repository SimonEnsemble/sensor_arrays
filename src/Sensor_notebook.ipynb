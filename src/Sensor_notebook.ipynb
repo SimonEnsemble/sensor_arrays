{
 "cells": [
  {
   "cell_type": "code",
   "execution_count": 1,
   "metadata": {
    "collapsed": true
   },
   "outputs": [],
   "source": [
    "using CSV, DataFrames\n",
    "using LinearAlgebra\n",
    "using PyPlot\n",
    "using Test\n",
    "using Printf\n",
    "using Statistics\n",
    "using Combinatorics\n",
    "using Colors"
   ]
  },
  {
   "cell_type": "code",
   "execution_count": 2,
   "metadata": {},
   "outputs": [
    {
     "data": {
      "text/plain": [
       "false"
      ]
     },
     "execution_count": 2,
     "metadata": {},
     "output_type": "execute_result"
    }
   ],
   "source": [
    "#Have an GUI plot window pop up\n",
    "pygui(false)"
   ]
  },
  {
   "cell_type": "code",
   "execution_count": 3,
   "metadata": {
    "scrolled": false
   },
   "outputs": [
    {
     "data": {
      "text/html": [
       "<table class=\"data-frame\"><thead><tr><th></th><th>crystal</th><th>CO2_henry coefficient [mmol/(g-bar)]</th><th>CO2_err henry coefficient [mmol/(g-bar)]</th><th>CO2_Qst (kJ/mol)</th><th>CO2_elapsed time (min)</th><th>C2H6_henry coefficient [mmol/(g-bar)]</th><th>C2H6_err henry coefficient [mmol/(g-bar)]</th><th>C2H6_Qst (kJ/mol)</th><th>C2H6_elapsed time (min)</th><th>CH4_henry coefficient [mmol/(g-bar)]</th><th>CH4_err henry coefficient [mmol/(g-bar)]</th><th>CH4_Qst (kJ/mol)</th><th>CH4_elapsed time (min)</th><th>H2S_henry coefficient [mmol/(g-bar)]</th><th>H2S_err henry coefficient [mmol/(g-bar)]</th><th>H2S_Qst (kJ/mol)</th><th>H2S_elapsed time (min)</th></tr><tr><th></th><th>String⍰</th><th>Float64⍰</th><th>Float64⍰</th><th>Float64⍰</th><th>Float64⍰</th><th>Float64⍰</th><th>Float64⍰</th><th>Float64⍰</th><th>Float64⍰</th><th>Float64⍰</th><th>Float64⍰</th><th>Float64⍰</th><th>Float64⍰</th><th>Float64⍰</th><th>Float64⍰</th><th>Float64⍰</th><th>Float64⍰</th></tr></thead><tbody><tr><th>1</th><td>BEDYEQ</td><td>1.82475</td><td>0.0177779</td><td>19.0016</td><td>4.38904</td><td>5.98116</td><td>0.0431582</td><td>22.2832</td><td>4.09131</td><td>0.773284</td><td>0.00170916</td><td>13.7395</td><td>1.83924</td><td>4.45697</td><td>0.0801502</td><td>22.0023</td><td>18.9047</td></tr><tr><th>2</th><td>KAMZUV</td><td>1.62248</td><td>0.0962873</td><td>21.0235</td><td>146.131</td><td>5.08342</td><td>0.0781665</td><td>22.001</td><td>1.00572</td><td>0.594153</td><td>0.00302961</td><td>14.866</td><td>0.658018</td><td>3.42089</td><td>0.183756</td><td>21.6881</td><td>628.996</td></tr><tr><th>3</th><td>LICGOW</td><td>2.12346</td><td>0.00818437</td><td>17.6678</td><td>3.246</td><td>11.3598</td><td>0.0691894</td><td>23.5651</td><td>2.56293</td><td>1.03225</td><td>0.0073176</td><td>14.3218</td><td>1.22209</td><td>5.99804</td><td>0.0406415</td><td>21.3115</td><td>11.2031</td></tr><tr><th>4</th><td>MERLAZ</td><td>1.50517</td><td>0.0117501</td><td>15.6514</td><td>3.50848</td><td>6.15988</td><td>0.0661164</td><td>21.4756</td><td>3.01044</td><td>0.83939</td><td>0.00448773</td><td>12.4556</td><td>1.68918</td><td>3.85001</td><td>0.0388272</td><td>19.2883</td><td>23.3406</td></tr><tr><th>5</th><td>REWNEO</td><td>2.23041</td><td>0.0206739</td><td>18.588</td><td>12.3257</td><td>8.82835</td><td>0.0798477</td><td>23.3578</td><td>6.63599</td><td>0.96551</td><td>0.00526992</td><td>13.9211</td><td>3.3529</td><td>6.02938</td><td>0.0973906</td><td>22.5996</td><td>23.5686</td></tr><tr><th>6</th><td>RUBTAK01</td><td>5.16349</td><td>0.09639</td><td>22.9488</td><td>1.04004</td><td>51.6845</td><td>0.719206</td><td>29.5084</td><td>0.771493</td><td>1.77114</td><td>0.0258689</td><td>19.0074</td><td>0.563846</td><td>18.5878</td><td>0.312845</td><td>26.2197</td><td>6.97965</td></tr><tr><th>7</th><td>VOGTIV</td><td>1.9746</td><td>0.0311239</td><td>18.0649</td><td>0.759916</td><td>9.37706</td><td>0.187174</td><td>22.1253</td><td>0.587089</td><td>0.930926</td><td>0.0112494</td><td>14.695</td><td>0.266269</td><td>5.17526</td><td>0.11121</td><td>20.6854</td><td>1.73949</td></tr><tr><th>8</th><td>WIZMAV</td><td>2.16721</td><td>0.0156529</td><td>18.1351</td><td>9.88237</td><td>9.45071</td><td>0.0620134</td><td>22.7766</td><td>9.28018</td><td>0.977883</td><td>0.00204088</td><td>14.5934</td><td>4.26808</td><td>6.39204</td><td>0.0267477</td><td>22.3418</td><td>39.1901</td></tr></tbody></table>"
      ],
      "text/plain": [
       "8×17 DataFrame. Omitted printing of 15 columns\n",
       "│ Row │ crystal  │ CO2_henry coefficient [mmol/(g-bar)] │\n",
       "│     │ \u001b[90mString⍰\u001b[39m  │ \u001b[90mUnion{Missing, Float64}\u001b[39m              │\n",
       "├─────┼──────────┼──────────────────────────────────────┤\n",
       "│ 1   │ BEDYEQ   │ 1.82475                              │\n",
       "│ 2   │ KAMZUV   │ 1.62248                              │\n",
       "│ 3   │ LICGOW   │ 2.12346                              │\n",
       "│ 4   │ MERLAZ   │ 1.50517                              │\n",
       "│ 5   │ REWNEO   │ 2.23041                              │\n",
       "│ 6   │ RUBTAK01 │ 5.16349                              │\n",
       "│ 7   │ VOGTIV   │ 1.9746                               │\n",
       "│ 8   │ WIZMAV   │ 2.16721                              │"
      ]
     },
     "execution_count": 3,
     "metadata": {},
     "output_type": "execute_result"
    }
   ],
   "source": [
    "#Read in MOFs\n",
    "\n",
    "_df_henry = CSV.read(\"../data/henry_constants_11oct.csv\")\n",
    "for (i, xtal) in enumerate(_df_henry[:crystal])\n",
    "    # Check replace() out for string replacement\n",
    "    _df_henry[i, :crystal] = split(split(_df_henry[i, :crystal], \".cif\")[1], \"_\")[1]\n",
    "end\n",
    "dropmissing!(_df_henry)\n",
    "#_df_henry = _df_henry[[i for i in 1:15 if i != 13], :]\n",
    "#_df_henry = _df_henry[[i for i in 1:13], :]            \n",
    "global const df_henry = deepcopy(_df_henry)"
   ]
  },
  {
   "cell_type": "code",
   "execution_count": 4,
   "metadata": {},
   "outputs": [
    {
     "data": {
      "image/png": "[encoded data removed]",
      "text/plain": [
       "Figure(PyObject <Figure size 640x480 with 1 Axes>)"
      ]
     },
     "metadata": {},
     "output_type": "display_data"
    },
    {
     "data": {
      "text/plain": [
       "([3.0, 4.0, 0.0, 0.0, 0.0, 0.0, 0.0, 0.0, 0.0, 1.0], [1.50517, 1.871, 2.23684, 2.60267, 2.9685, 3.33433, 3.70016, 4.066, 4.43183, 4.79766, 5.16349], PyCall.PyObject[PyObject <matplotlib.patches.Rectangle object at 0x00000000239DB668>, PyObject <matplotlib.patches.Rectangle object at 0x00000000239DB438>, PyObject <matplotlib.patches.Rectangle object at 0x00000000239DBC88>, PyObject <matplotlib.patches.Rectangle object at 0x00000000239DBFD0>, PyObject <matplotlib.patches.Rectangle object at 0x00000000239EE358>, PyObject <matplotlib.patches.Rectangle object at 0x00000000239EE6A0>, PyObject <matplotlib.patches.Rectangle object at 0x00000000239EE9E8>, PyObject <matplotlib.patches.Rectangle object at 0x00000000239EED30>, PyObject <matplotlib.patches.Rectangle object at 0x00000000239F70B8>, PyObject <matplotlib.patches.Rectangle object at 0x00000000239F7400>])"
      ]
     },
     "execution_count": 4,
     "metadata": {},
     "output_type": "execute_result"
    }
   ],
   "source": [
    "data = df_henry[Symbol(\"CO2_henry coefficient [mmol/(g-bar)]\")]\n",
    "plt[:hist](data)"
   ]
  },
  {
   "cell_type": "code",
   "execution_count": 22,
   "metadata": {},
   "outputs": [
    {
     "data": {
      "image/png": "[encoded data removed]",
      "text/plain": [
       "Figure(PyObject <Figure size 1000x800 with 1 Axes>)"
      ]
     },
     "metadata": {},
     "output_type": "display_data"
    },
    {
     "data": {
      "text/plain": [
       "PyObject <matplotlib.legend.Legend object at 0x000000000106E5F8>"
      ]
     },
     "execution_count": 22,
     "metadata": {},
     "output_type": "execute_result"
    }
   ],
   "source": [
    "function plot_histogram()\n",
    "    fig = figure(figsize=(10,8))\n",
    "    gases = [\"CO2\", \"C2H6\", \"CH4\"]\n",
    "    for gas in gases\n",
    "        plt[:hist](df_henry[Symbol(gas * \"_henry coefficient [mmol/(g-bar)]\")], label = gas)\n",
    "    end\n",
    "    legend()\n",
    "end\n",
    "plot_histogram()"
   ]
  },
  {
   "cell_type": "code",
   "execution_count": 6,
   "metadata": {},
   "outputs": [
    {
     "data": {
      "text/plain": [
       "perform_svd (generic function with 1 method)"
      ]
     },
     "execution_count": 6,
     "metadata": {},
     "output_type": "execute_result"
    }
   ],
   "source": [
    "function perform_svd(gas1::AbstractString, gas2::AbstractString)\n",
    "    #Should we create the program for comparing just two MOFs?\n",
    "    #Or should it be able to compare 3 as well?\n",
    "\n",
    "    # MOFs[1] indicates the length of the first column, eg. the number of MOFs being screened\n",
    "    #initialize Henry's Matrix\n",
    "    N = size(df_henry)[1]\n",
    "    sigma = zeros(N, N, 2)\n",
    "\n",
    "    for i = 1:N\n",
    "        for j = i+1:N\n",
    "            H = make_h_matrix(i, j, gas1, gas2)\n",
    "            F = svd(H)\n",
    "            sigma[i, j, :] = F.S\n",
    "        end\n",
    "    end\n",
    "    return sigma\n",
    "end"
   ]
  },
  {
   "cell_type": "code",
   "execution_count": 7,
   "metadata": {},
   "outputs": [
    {
     "data": {
      "text/plain": [
       "make_h_matrix (generic function with 1 method)"
      ]
     },
     "execution_count": 7,
     "metadata": {},
     "output_type": "execute_result"
    }
   ],
   "source": [
    "function make_h_matrix(mof1::Int, mof2::Int, gas1::AbstractString, gas2::AbstractString)\n",
    "    H = zeros(2,2)\n",
    "    H[1, 1] = df_henry[mof1, Symbol(gas1 * \"_henry coefficient [mmol/(g-bar)]\")] - df_henry[mof1, Symbol(\"CH4_henry coefficient [mmol/(g-bar)]\")]\n",
    "    H[1, 2] = df_henry[mof1, Symbol(gas2 * \"_henry coefficient [mmol/(g-bar)]\")] - df_henry[mof1, Symbol(\"CH4_henry coefficient [mmol/(g-bar)]\")]\n",
    "    H[2, 1] = df_henry[mof2, Symbol(gas1 * \"_henry coefficient [mmol/(g-bar)]\")] - df_henry[mof2, Symbol(\"CH4_henry coefficient [mmol/(g-bar)]\")]\n",
    "    H[2, 2] = df_henry[mof2, Symbol(gas2 * \"_henry coefficient [mmol/(g-bar)]\")] - df_henry[mof2, Symbol(\"CH4_henry coefficient [mmol/(g-bar)]\")]\n",
    "    return H\n",
    "end"
   ]
  },
  {
   "cell_type": "code",
   "execution_count": 8,
   "metadata": {},
   "outputs": [
    {
     "data": {
      "text/plain": [
       "8×8×2 Array{Float64,3}:\n",
       "[:, :, 1] =\n",
       " 0.0  7.03067  11.6568   7.54313   9.57188  50.305   10.0268  10.0677 \n",
       " 0.0  0.0      11.3493   7.05962   9.19601  50.2349   9.6678   9.71048\n",
       " 0.0  0.0       0.0     11.6873   13.0827   51.0936  13.4262  13.4537 \n",
       " 0.0  0.0       0.0      0.0       9.59952  50.3141  10.0587  10.097  \n",
       " 0.0  0.0       0.0      0.0       0.0      50.6533  11.6536  11.6882 \n",
       " 0.0  0.0       0.0      0.0       0.0       0.0     50.7451  50.7512 \n",
       " 0.0  0.0       0.0      0.0       0.0       0.0      0.0     12.0673 \n",
       " 0.0  0.0       0.0      0.0       0.0       0.0      0.0      0.0    \n",
       "\n",
       "[:, :, 2] =\n",
       " 0.0  0.0903306  0.444057  0.281982   …  0.692085  0.343634    0.269682 \n",
       " 0.0  0.0        0.504123  0.351627      0.718588  0.413754    0.347426 \n",
       " 0.0  0.0        0.0       0.0915655     0.380302  0.11635     0.225753 \n",
       " 0.0  0.0        0.0       0.0           0.301752  0.00700139  0.0680134\n",
       " 0.0  0.0        0.0       0.0           0.719829  0.212576    0.116853 \n",
       " 0.0  0.0        0.0       0.0        …  0.0       0.461935    0.603339 \n",
       " 0.0  0.0        0.0       0.0           0.0       0.0         0.0996344\n",
       " 0.0  0.0        0.0       0.0           0.0       0.0         0.0      "
      ]
     },
     "execution_count": 8,
     "metadata": {},
     "output_type": "execute_result"
    }
   ],
   "source": [
    "sigma = perform_svd(\"CO2\",\"C2H6\")"
   ]
  },
  {
   "cell_type": "code",
   "execution_count": 9,
   "metadata": {},
   "outputs": [
    {
     "data": {
      "text/plain": [
       "argmin_without_zero (generic function with 1 method)"
      ]
     },
     "execution_count": 9,
     "metadata": {},
     "output_type": "execute_result"
    }
   ],
   "source": [
    "function argmin_without_zero(matrix::Array{Float64, 2})\n",
    "    index = CartesianIndex(1,1)\n",
    "    lowest = Inf\n",
    "    for i = 1:size(matrix)[1]\n",
    "        for j = 1:size(matrix)[2]\n",
    "            if matrix[i,j] < lowest && !isapprox(matrix[i,j], 0.0)\n",
    "                lowest = matrix[i,j]\n",
    "                index = CartesianIndex(i,j)\n",
    "            end\n",
    "        end\n",
    "    end\n",
    "    return index, lowest\n",
    "end\n",
    "    "
   ]
  },
  {
   "cell_type": "code",
   "execution_count": 10,
   "metadata": {},
   "outputs": [
    {
     "data": {
      "text/plain": [
       "(CartesianIndex(1, 2), 7.03067022092471)"
      ]
     },
     "execution_count": 10,
     "metadata": {},
     "output_type": "execute_result"
    }
   ],
   "source": [
    "idx, lowest = argmin_without_zero(sigma[:,:,1])"
   ]
  },
  {
   "cell_type": "code",
   "execution_count": 11,
   "metadata": {},
   "outputs": [
    {
     "data": {
      "text/plain": [
       "analyze_svd (generic function with 1 method)"
      ]
     },
     "execution_count": 11,
     "metadata": {},
     "output_type": "execute_result"
    }
   ],
   "source": [
    "function analyze_svd(sigma::Array{Float64, 3})\n",
    "\n",
    "    #initialize some arrays\n",
    "    best_indices = argmax(sigma[:, :, 2]) # finds the largest σ₂ value\n",
    "    #TODO Needs fixing. worst_indices doesn't work\n",
    "    worst_indices = argmin_without_zero(sigma[:, :, 1])[1] # finds the smallest σ₁ value\n",
    "\n",
    "    MOF1 = String(df_henry[best_indices[1], :crystal])\n",
    "    MOF2 = String(df_henry[best_indices[2], :crystal])\n",
    "\n",
    "    println(\"The most sensitive pair of MOFs is \" * MOF1 * \" and \" * MOF2)\n",
    "\n",
    "    MOF3 = String(df_henry[worst_indices[1], :crystal])\n",
    "    MOF4 = String(df_henry[worst_indices[2], :crystal])\n",
    "\n",
    "    println(\"The least sensitive pair of MOFs is \" * MOF3 * \" and \" * MOF4)\n",
    "\n",
    "    #error analysis?\n",
    "    #Delta K/H?\n",
    "\n",
    "#=\n",
    "    #create circle array\n",
    "    n = 1000\n",
    "    #TODO change to range\n",
    "    x_lin = linspace(-1,1,n)\n",
    "    y = zeros(2*n)\n",
    "    x = zeros(2*n)\n",
    "    for i = 1:n\n",
    "        y[2 * i] = sqrt(1 - (x_lin[i] ^ 2))\n",
    "        y[2 * i - 1] = - sqrt(1 - (x_lin[i] ^ 2))\n",
    "        x[2 * i] = x_lin[i]\n",
    "        x[2 * i - 1] = x_lin[i]\n",
    "    end\n",
    "\n",
    "    xx = x\n",
    "    yy = y\n",
    "\n",
    "    pre_plot = plot(x = xx, y = yy, Geom.point, Guide.xlabel(\"x\"), Guide.ylabel(\"y\"))\n",
    "\n",
    "    #formats the xy coords appropriately\n",
    "    xy = hcat(x, y)\n",
    "    xy = transpose(xy)\n",
    "\n",
    "    #stretches the xy coords by the sigma from the svd\n",
    "    highest_sigma = sigma[highest_index[1], highest_index[2]]\n",
    "    sigma = [highest_sigma[1] 0; 0 highest_sigma[2]]\n",
    "    println(sigma)\n",
    "    xy_stretched = sigma*xy\n",
    "\n",
    "    post_plot = plot(x = xy_stretched[1,:], y = xy_stretched[2,:], Geom.point, Guide.xlabel(\"x\"), Guide.ylabel(\"y\"))\n",
    "\n",
    "    return post_plot\n",
    "    =#\n",
    "end"
   ]
  },
  {
   "cell_type": "code",
   "execution_count": 12,
   "metadata": {},
   "outputs": [
    {
     "data": {
      "text/plain": [
       "mof2index (generic function with 1 method)"
      ]
     },
     "execution_count": 12,
     "metadata": {},
     "output_type": "execute_result"
    }
   ],
   "source": [
    "function mof2index(mof::AbstractString)\n",
    "    boolarray = mof .== df_henry[:crystal]\n",
    "    if sum(boolarray) > 1\n",
    "        @error \"More than one MOF match the given MOF name\"\n",
    "    elseif sum(boolarray) == 0\n",
    "        @error \"No MOF matched the given MOF name\"\n",
    "    end\n",
    "    return argmax(boolarray)\n",
    "end"
   ]
  },
  {
   "cell_type": "code",
   "execution_count": 13,
   "metadata": {},
   "outputs": [
    {
     "name": "stderr",
     "output_type": "stream",
     "text": [
      "┌ Error: No MOF matched the given MOF name\n",
      "└ @ Main In[12]:6\n"
     ]
    },
    {
     "name": "stdout",
     "output_type": "stream",
     "text": [
      "\u001b[37mMOF to index test: \u001b[39m\u001b[91m\u001b[1mTest Failed\u001b[22m\u001b[39m at \u001b[39m\u001b[1mIn[13]:2\u001b[22m\n",
      "  Expression: isapprox(mof2index(\"COF-103\"), 4)\n",
      "   Evaluated: isapprox(1, 4)\n",
      "Stacktrace:\n",
      " [1] \u001b[1mmacro expansion\u001b[22m at \u001b[1m.\\In[13]:2\u001b[22m [inlined]\n",
      " [2] \u001b[1mmacro expansion\u001b[22m at \u001b[1mC:\\cygwin\\home\\Administrator\\buildbot\\worker\\package_win64\\build\\usr\\share\\julia\\stdlib\\v1.0\\Test\\src\\Test.jl:1083\u001b[22m [inlined]\n",
      " [3] top-level scope at \u001b[1m.\\In[13]:2\u001b[22m\n",
      "\u001b[37m\u001b[1mTest Summary:     | \u001b[22m\u001b[39m\u001b[91m\u001b[1mFail  \u001b[22m\u001b[39m\u001b[36m\u001b[1mTotal\u001b[22m\u001b[39m\n",
      "MOF to index test | \u001b[91m   1  \u001b[39m\u001b[36m    1\u001b[39m\n"
     ]
    },
    {
     "ename": "TestSetException",
     "evalue": "Some tests did not pass: 0 passed, 1 failed, 0 errored, 0 broken.",
     "output_type": "error",
     "traceback": [
      "Some tests did not pass: 0 passed, 1 failed, 0 errored, 0 broken.",
      "",
      "Stacktrace:",
      " [1] finish(::Test.DefaultTestSet) at C:\\cygwin\\home\\Administrator\\buildbot\\worker\\package_win64\\build\\usr\\share\\julia\\stdlib\\v1.0\\Test\\src\\Test.jl:847",
      " [2] macro expansion at C:\\cygwin\\home\\Administrator\\buildbot\\worker\\package_win64\\build\\usr\\share\\julia\\stdlib\\v1.0\\Test\\src\\Test.jl:1092 [inlined]",
      " [3] top-level scope at .\\In[13]:2"
     ]
    }
   ],
   "source": [
    "@testset \"MOF to index test\" begin\n",
    "    @test isapprox(mof2index(\"COF-103\"), 4)\n",
    "end"
   ]
  },
  {
   "cell_type": "code",
   "execution_count": 32,
   "metadata": {},
   "outputs": [
    {
     "data": {
      "text/plain": [
       "plot_response (generic function with 2 methods)"
      ]
     },
     "execution_count": 32,
     "metadata": {},
     "output_type": "execute_result"
    }
   ],
   "source": [
    "function plot_response(mof1::Int, mof2::Int, gas1::AbstractString, gas2::AbstractString)\n",
    "    H = make_h_matrix(mof1, mof2, gas1, gas2)\n",
    "    F = svd(H)\n",
    "    θ = range(0, stop=2*π, length=500)[1:end-1]\n",
    "    p = transpose(hcat(cos.(θ), sin.(θ))) # set pt change\n",
    "    n = H * p # required input\n",
    "\n",
    "    S = perform_svd(gas1, gas2)\n",
    "    biggest_σ = maximum(S[:, :, 1])\n",
    "\n",
    "    function plot_vector(x; head_length=0.05, head_width=0.05, color=\"k\", label=\"\", label_dist=0.05)\n",
    "        x_plot = x - head_length * x / norm(x)\n",
    "        arrow(0, 0, x_plot[1], x_plot[2], head_width=head_width,\n",
    "            head_length=head_length, fc=color, ec=color, zorder=1000000)\n",
    "        x_label = x + x / norm(x) * label_dist\n",
    "        text(x_label[1], x_label[2], label)\n",
    "    end\n",
    "\n",
    "    cnorm = PyPlot.matplotlib[:colors][:Normalize](vmin=0.0, vmax=2 * π)\n",
    "\n",
    "    m = cm[:ScalarMappable](norm=cnorm, cmap=cm[:hsv])\n",
    "    m[:set_array]([]) # trick\n",
    "\n",
    "\n",
    "    figure(figsize=(11, 5))\n",
    "    subplot(121, aspect=\"equal\")\n",
    "    for i = 1:length(θ)-1\n",
    "        plot(p[1, i:i+1], p[2, i:i+1], lw=5, c=m[:to_rgba](mean(θ[i:i+1])))\n",
    "    end\n",
    "    xlim([-1.1, 1.1])\n",
    "    ylim([-1.1, 1.1])\n",
    "    axis(\"equal\")\n",
    "    xlabel(@sprintf(\"\\$p_{%s}^*\\$ (bar)\", gas1))\n",
    "    ylabel(@sprintf(\"\\$p_{%s}^*\\$ (bar)\", gas2))\n",
    "    for k = 1:2\n",
    "        plot_vector(F.V[:, k], color=\"k\",\n",
    "            label=\"\\$\\\\mathbf{v}_$k\\$\", label_dist=0.1)\n",
    "    end\n",
    "    title(\"Composition Space\")\n",
    "    tight_layout()\n",
    "\n",
    "    subplot(122, aspect=\"equal\")\n",
    "    ylim([-biggest_σ, biggest_σ])\n",
    "    xlim([-biggest_σ, biggest_σ])\n",
    "    for i = 1:length(θ)-1\n",
    "        plot(n[1, i:i+1], n[2, i:i+1], lw=5, c=m[:to_rgba](mean(θ[i:i+1])))\n",
    "    end\n",
    "    for k = 1:2\n",
    "        plot_vector(F.U[:, k] * F.S[k], head_length=0.005,\n",
    "            head_width=0.05/3, color=\"k\", label=\"\\$\\\\sigma_$k\\\\mathbf{u}_$k\\$\", label_dist=0.025)\n",
    "    end\n",
    "    axis(\"equal\")\n",
    "    xlabel(@sprintf(\"\\$n_{%i}^*\\$ (mmol of total gas)\", mof1))\n",
    "    ylabel(@sprintf(\"\\$n_{%i}^*\\$ (mmol of total gas)\", mof2))\n",
    "    title(\"Response Space\")\n",
    "    tight_layout()\n",
    "    savefig(@sprintf(\"composition_response_of_%i_and_%i.png\", mof1, mof2), format=\"png\", dpi=300)\n",
    "end\n",
    "\n",
    "plot_response(mof1::AbstractString, mof2::AbstractString, gas1::AbstractString, gas2::AbstractString) = plot_response(mof2index(mof1), mof2index(mof2), gas1, gas2)"
   ]
  },
  {
   "cell_type": "code",
   "execution_count": 26,
   "metadata": {},
   "outputs": [
    {
     "data": {
      "text/plain": [
       "plot_all_responses (generic function with 3 methods)"
      ]
     },
     "execution_count": 26,
     "metadata": {},
     "output_type": "execute_result"
    }
   ],
   "source": [
    "function plot_all_responses(gas1::AbstractString, gas2::AbstractString, index_list::Union{Array{Int64, 1}, Missing}=missing)\n",
    "    # Plot left figure\n",
    "    \n",
    "    figure(figsize=(11, 5))\n",
    "    subplot(121, aspect=\"equal\")\n",
    "    θ = range(0, stop=2*π, length=500)[1:end-1]\n",
    "    p = transpose(hcat(cos.(θ), sin.(θ))) # set pt change\n",
    "    for i = 1:length(θ)-1\n",
    "        plot(p[1, i:i+1], p[2, i:i+1], lw=5, c=\"k\")\n",
    "    end\n",
    "    xlim([-1.1, 1.1])\n",
    "    ylim([-1.1, 1.1])\n",
    "    axis(\"equal\")\n",
    "    xlabel(@sprintf(\"\\$p_{%s}^*\\$ (bar)\", gas1))\n",
    "    ylabel(@sprintf(\"\\$p_{%s}^*\\$ (bar)\", gas2))\n",
    "    #for k = 1:2\n",
    "    #    plot_vector(F.V[:, k], color=\"r\",\n",
    "    #        label=\"\\$\\\\mathbf{v}_$k\\$\", label_dist=0.1)\n",
    "    #end\n",
    "    title(\"Composition Space\")\n",
    "    \n",
    "    if index_list !== missing\n",
    "        number_of_mofs = length(index_list)\n",
    "        if number_of_mofs < 2\n",
    "            @error \"Need more than one index to plot the response!\"\n",
    "        end\n",
    "        pairs = combinations(index_list, 2)\n",
    "    else\n",
    "        number_of_mofs = size(df_henry)[1]\n",
    "        pairs = combinations(1:number_of_mofs, 2)\n",
    "    end\n",
    "    \n",
    "    cols = distinguishable_colors(size(collect(pairs))[1]+1, [RGB(1,1,1)])[2:end]\n",
    "    ax = subplot(122, aspect=\"equal\")\n",
    "\n",
    "    for (k, pair) in enumerate(pairs)\n",
    "        mof1 = df_henry[pair[1], :crystal]\n",
    "        mof2 = df_henry[pair[2], :crystal]\n",
    "        label = @sprintf(\"%s and %s\", mof1, mof2)\n",
    "        #@printf(\"Plotting %s and %s\\n\", mof1, mof2)\n",
    "        H = make_h_matrix(pair[1], pair[2], gas1, gas2)\n",
    "        F = svd(H)\n",
    "        θ_response = range(0, stop=2*π, length=250)[1:end-1]\n",
    "        p_response = transpose(hcat(cos.(θ_response), sin.(θ_response))) # set pt change\n",
    "        n = H * p_response # required input\n",
    "        for i = 1:length(θ_response)-1\n",
    "            plot(n[1, i:i+1], n[2, i:i+1], alpha=0.75, lw=5, c=\"#\" * string(hex(cols[k])))#, label = label)\n",
    "        end\n",
    "        title(@sprintf(\"Response Space\"))\n",
    "        xlabel(@sprintf(\"\\$n_1\\$ (mmol/g)\"))\n",
    "        ylabel(@sprintf(\"\\$n_2\\$ (mmol/g)\"))\n",
    "\n",
    "    end\n",
    "    #legend()\n",
    "end\n",
    "\n",
    "plot_all_responses(gas1::AbstractString, gas2::AbstractString, mof_list::Array{String, 1}) = plot_all_responses(gas1, gas2, mof2index.(mof_list))"
   ]
  },
  {
   "cell_type": "code",
   "execution_count": 29,
   "metadata": {
    "scrolled": false
   },
   "outputs": [
    {
     "data": {
      "image/png": "[encoded data removed]",
      "text/plain": [
       "Figure(PyObject <Figure size 1100x500 with 2 Axes>)"
      ]
     },
     "metadata": {},
     "output_type": "display_data"
    }
   ],
   "source": [
    "plot_all_responses(\"C2H6\", \"CO2\")"
   ]
  },
  {
   "cell_type": "code",
   "execution_count": 30,
   "metadata": {},
   "outputs": [
    {
     "ename": "ErrorException",
     "evalue": "type PyObject has no field cm",
     "output_type": "error",
     "traceback": [
      "type PyObject has no field cm",
      "",
      "Stacktrace:",
      " [1] getproperty(::Any, ::Symbol) at .\\sysimg.jl:18",
      " [2] plot_response(::Int64, ::Int64, ::String, ::String) at .\\In[23]:21",
      " [3] plot_response(::String, ::String, ::String, ::String) at .\\In[23]:60",
      " [4] top-level scope at In[30]:1"
     ]
    }
   ],
   "source": [
    "plot_response(\"REWNEO\", \"RUBTAK01\", \"C2H6\", \"CO2\")"
   ]
  },
  {
   "cell_type": "code",
   "execution_count": 31,
   "metadata": {},
   "outputs": [
    {
     "name": "stdout",
     "output_type": "stream",
     "text": [
      "The most sensitive pair of MOFs is REWNEO and RUBTAK01\n",
      "The least sensitive pair of MOFs is BEDYEQ and KAMZUV\n"
     ]
    }
   ],
   "source": [
    "sigma = perform_svd(\"C2H6\", \"CO2\")\n",
    "analyze_svd(sigma)"
   ]
  },
  {
   "cell_type": "code",
   "execution_count": 19,
   "metadata": {
    "collapsed": true
   },
   "outputs": [],
   "source": [
    "#@testset \"Sensor Tests\" begin\n",
    "#    H = make_h_matrix(3, 5, \"CO2\", \"C2H6\")\n",
    "#    G = [(8.91e-5) (4.84e-5); (1.87e-5) (4.68e-5)] .- [5.84e-6; 9.56e-6]\n",
    "#    @test isapprox(H, G)\n",
    "#end"
   ]
  }
 ],
 "metadata": {
  "kernelspec": {
   "display_name": "Julia 1.0.0",
   "language": "julia",
   "name": "julia-1.0"
  },
  "language_info": {
   "file_extension": ".jl",
   "mimetype": "application/julia",
   "name": "julia",
   "version": "1.0.0"
  }
 },
 "nbformat": 4,
 "nbformat_minor": 2
}
