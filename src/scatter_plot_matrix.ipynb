{
 "cells": [
  {
   "cell_type": "markdown",
   "metadata": {},
   "source": [
    "# <p style=\"text-align: center;\">**Curating metal-organic frameworks to compose robust gas sensor arrays in dilute conditions**</p>"
   ]
  },
  {
   "cell_type": "markdown",
   "metadata": {},
   "source": [
    "### <p style=\"text-align: center;\">Arni Sturluson, Rachel Sousa, Yujing Zhang, Melanie T. Huynh, Caleb Laird, Arthur H. P. York, Carson Silsby, Chih-Hung Chang, and Cory M. Simon</p>"
   ]
  },
  {
   "cell_type": "markdown",
   "metadata": {},
   "source": [
    "================================================================================================================================"
   ]
  },
  {
   "cell_type": "markdown",
   "metadata": {},
   "source": [
    "## Scatter Plot Matrix"
   ]
  },
  {
   "cell_type": "markdown",
   "metadata": {},
   "source": [
    "Here we use the Seaborn Package to create a scatter plot matrix of the CO<sub>2</sub> and SO<sub>2</sub> Henry constants of the MOFs in our set"
   ]
  },
  {
   "cell_type": "code",
   "execution_count": 4,
   "metadata": {},
   "outputs": [],
   "source": [
    "import numpy as np\n",
    "import pandas as pd\n",
    "import seaborn as sns\n",
    "import matplotlib.pyplot as plt\n",
    "from scipy import stats"
   ]
  },
  {
   "cell_type": "code",
   "execution_count": 6,
   "metadata": {},
   "outputs": [],
   "source": [
    "# sns.set(color_codes=True)\n",
    "# sns.set(style=\"ticks\")\n",
    "\n",
    "mw = {\"SO2\": 64.066, \"CO2\": 44.01}"
   ]
  },
  {
   "cell_type": "code",
   "execution_count": 7,
   "metadata": {},
   "outputs": [
    {
     "data": {
      "text/html": [
       "<div>\n",
       "<style scoped>\n",
       "    .dataframe tbody tr th:only-of-type {\n",
       "        vertical-align: middle;\n",
       "    }\n",
       "\n",
       "    .dataframe tbody tr th {\n",
       "        vertical-align: top;\n",
       "    }\n",
       "\n",
       "    .dataframe thead th {\n",
       "        text-align: right;\n",
       "    }\n",
       "</style>\n",
       "<table border=\"1\" class=\"dataframe\">\n",
       "  <thead>\n",
       "    <tr style=\"text-align: right;\">\n",
       "      <th></th>\n",
       "      <th>crystal</th>\n",
       "      <th>CO2_henry coefficient [mmol/(g-bar)]</th>\n",
       "      <th>CO2_Temperature [K]</th>\n",
       "      <th>SO2_henry coefficient [mmol/(g-bar)]</th>\n",
       "      <th>SO2_Temperature [K]</th>\n",
       "      <th>H_SO2 [g/(g-bar)]</th>\n",
       "      <th>H_CO2 [g/(g-bar)]</th>\n",
       "    </tr>\n",
       "  </thead>\n",
       "  <tbody>\n",
       "    <tr>\n",
       "      <th>0</th>\n",
       "      <td>MFM601</td>\n",
       "      <td>1.370301</td>\n",
       "      <td>298</td>\n",
       "      <td>97.240663</td>\n",
       "      <td>298</td>\n",
       "      <td>6.229820</td>\n",
       "      <td>0.060307</td>\n",
       "    </tr>\n",
       "    <tr>\n",
       "      <th>1</th>\n",
       "      <td>Zn-bdc-ted</td>\n",
       "      <td>2.158665</td>\n",
       "      <td>298</td>\n",
       "      <td>19.169554</td>\n",
       "      <td>298</td>\n",
       "      <td>1.228117</td>\n",
       "      <td>0.095003</td>\n",
       "    </tr>\n",
       "    <tr>\n",
       "      <th>2</th>\n",
       "      <td>Ni-bdc-ted</td>\n",
       "      <td>2.206897</td>\n",
       "      <td>298</td>\n",
       "      <td>40.402008</td>\n",
       "      <td>298</td>\n",
       "      <td>2.588395</td>\n",
       "      <td>0.097126</td>\n",
       "    </tr>\n",
       "    <tr>\n",
       "      <th>3</th>\n",
       "      <td>NOTT-202a</td>\n",
       "      <td>1.371089</td>\n",
       "      <td>293</td>\n",
       "      <td>153.600000</td>\n",
       "      <td>293</td>\n",
       "      <td>9.840538</td>\n",
       "      <td>0.060342</td>\n",
       "    </tr>\n",
       "    <tr>\n",
       "      <th>4</th>\n",
       "      <td>MFM600</td>\n",
       "      <td>1.418831</td>\n",
       "      <td>298</td>\n",
       "      <td>34.797254</td>\n",
       "      <td>298</td>\n",
       "      <td>2.229321</td>\n",
       "      <td>0.062443</td>\n",
       "    </tr>\n",
       "    <tr>\n",
       "      <th>5</th>\n",
       "      <td>NOTT-300</td>\n",
       "      <td>7.965262</td>\n",
       "      <td>293</td>\n",
       "      <td>483.863591</td>\n",
       "      <td>293</td>\n",
       "      <td>30.999205</td>\n",
       "      <td>0.350551</td>\n",
       "    </tr>\n",
       "    <tr>\n",
       "      <th>6</th>\n",
       "      <td>MFM-300-In</td>\n",
       "      <td>4.607513</td>\n",
       "      <td>298</td>\n",
       "      <td>171.432416</td>\n",
       "      <td>298</td>\n",
       "      <td>10.982989</td>\n",
       "      <td>0.202777</td>\n",
       "    </tr>\n",
       "    <tr>\n",
       "      <th>7</th>\n",
       "      <td>Zn-CN6</td>\n",
       "      <td>5.170580</td>\n",
       "      <td>298</td>\n",
       "      <td>4.364834</td>\n",
       "      <td>298</td>\n",
       "      <td>0.279637</td>\n",
       "      <td>0.227557</td>\n",
       "    </tr>\n",
       "    <tr>\n",
       "      <th>8</th>\n",
       "      <td>Mg-MOF-74</td>\n",
       "      <td>198.820320</td>\n",
       "      <td>293</td>\n",
       "      <td>150.412680</td>\n",
       "      <td>298</td>\n",
       "      <td>9.636339</td>\n",
       "      <td>8.750082</td>\n",
       "    </tr>\n",
       "    <tr>\n",
       "      <th>9</th>\n",
       "      <td>Co-CN6</td>\n",
       "      <td>2.440927</td>\n",
       "      <td>298</td>\n",
       "      <td>11.692121</td>\n",
       "      <td>298</td>\n",
       "      <td>0.749067</td>\n",
       "      <td>0.107425</td>\n",
       "    </tr>\n",
       "    <tr>\n",
       "      <th>10</th>\n",
       "      <td>KAUST7</td>\n",
       "      <td>261.691250</td>\n",
       "      <td>298</td>\n",
       "      <td>26.588414</td>\n",
       "      <td>298</td>\n",
       "      <td>1.703413</td>\n",
       "      <td>11.517032</td>\n",
       "    </tr>\n",
       "    <tr>\n",
       "      <th>11</th>\n",
       "      <td>KAUST8</td>\n",
       "      <td>163.183730</td>\n",
       "      <td>298</td>\n",
       "      <td>17.721644</td>\n",
       "      <td>298</td>\n",
       "      <td>1.135355</td>\n",
       "      <td>7.181716</td>\n",
       "    </tr>\n",
       "  </tbody>\n",
       "</table>\n",
       "</div>"
      ],
      "text/plain": [
       "       crystal  CO2_henry coefficient [mmol/(g-bar)]  CO2_Temperature [K]  \\\n",
       "0       MFM601                              1.370301                  298   \n",
       "1   Zn-bdc-ted                              2.158665                  298   \n",
       "2   Ni-bdc-ted                              2.206897                  298   \n",
       "3    NOTT-202a                              1.371089                  293   \n",
       "4       MFM600                              1.418831                  298   \n",
       "5     NOTT-300                              7.965262                  293   \n",
       "6   MFM-300-In                              4.607513                  298   \n",
       "7       Zn-CN6                              5.170580                  298   \n",
       "8    Mg-MOF-74                            198.820320                  293   \n",
       "9       Co-CN6                              2.440927                  298   \n",
       "10      KAUST7                            261.691250                  298   \n",
       "11      KAUST8                            163.183730                  298   \n",
       "\n",
       "    SO2_henry coefficient [mmol/(g-bar)]  SO2_Temperature [K]  \\\n",
       "0                              97.240663                  298   \n",
       "1                              19.169554                  298   \n",
       "2                              40.402008                  298   \n",
       "3                             153.600000                  293   \n",
       "4                              34.797254                  298   \n",
       "5                             483.863591                  293   \n",
       "6                             171.432416                  298   \n",
       "7                               4.364834                  298   \n",
       "8                             150.412680                  298   \n",
       "9                              11.692121                  298   \n",
       "10                             26.588414                  298   \n",
       "11                             17.721644                  298   \n",
       "\n",
       "    H_SO2 [g/(g-bar)]  H_CO2 [g/(g-bar)]  \n",
       "0            6.229820           0.060307  \n",
       "1            1.228117           0.095003  \n",
       "2            2.588395           0.097126  \n",
       "3            9.840538           0.060342  \n",
       "4            2.229321           0.062443  \n",
       "5           30.999205           0.350551  \n",
       "6           10.982989           0.202777  \n",
       "7            0.279637           0.227557  \n",
       "8            9.636339           8.750082  \n",
       "9            0.749067           0.107425  \n",
       "10           1.703413          11.517032  \n",
       "11           1.135355           7.181716  "
      ]
     },
     "execution_count": 7,
     "metadata": {},
     "output_type": "execute_result"
    }
   ],
   "source": [
    "#df = pd.read_csv(\"../data/henry_constants.csv\")\n",
    "df = pd.read_csv(\"../data/henry_constants.csv\")\n",
    "for gas in [\"SO2\", \"CO2\"]:\n",
    "    df[\"H_\" + gas + \" [g/(g-bar)]\"] = df[gas + \"_henry coefficient [mmol/(g-bar)]\"] * mw[gas] / 1000\n",
    "df"
   ]
  },
  {
   "cell_type": "code",
   "execution_count": 8,
   "metadata": {},
   "outputs": [],
   "source": [
    "formatted_crystal_names = {}\n",
    "formatted_crystal_names[\"MFM601\"] = \"MFM-601\"\n",
    "formatted_crystal_names[\"Zn-bdc-ted\"] = \"Zn(bdc)(ted)$_{0.5}$\"\n",
    "formatted_crystal_names[\"Ni-bdc-ted\"] = \"Ni(bdc)(ted)$_{0.5}$\"\n",
    "formatted_crystal_names[\"NOTT-202a\"] = \"NOTT-202a\"\n",
    "formatted_crystal_names[\"MFM600\"] = \"MFM-600\"\n",
    "formatted_crystal_names[\"NOTT-300\"] = \"NOTT-300\"\n",
    "formatted_crystal_names[\"MFM-300-In\"] = \"MFM-300-In\"\n",
    "formatted_crystal_names[\"Zn-CN6\"] = \"Zn$_3$[Co(CN)$_6$]$_2$\"\n",
    "formatted_crystal_names[\"Mg-MOF-74\"] = \"Mg-MOF-74\"\n",
    "formatted_crystal_names[\"Co-CN6\"] = \"Co$_3$[Co(CN)$_6$]$_2$\"\n",
    "formatted_crystal_names[\"KAUST7\"] = \"KAUST-7\"\n",
    "formatted_crystal_names[\"KAUST8\"] = \"KAUST-8\""
   ]
  },
  {
   "cell_type": "code",
   "execution_count": 34,
   "metadata": {},
   "outputs": [
    {
     "data": {
      "image/png": "[encoded data removed]",
      "text/plain": [
       "<Figure size 475.2x475.2 with 3 Axes>"
      ]
     },
     "metadata": {
      "needs_background": "light"
     },
     "output_type": "display_data"
    }
   ],
   "source": [
    "g = sns.jointplot(\"H_CO2 [g/(g-bar)]\", \"H_SO2 [g/(g-bar)]\", data=df,\n",
    "              height=6.6, ratio=3, color=\"orange\", marginal_kws={'hist_kws': {'color': 'orange', 'edgecolor': \"k\"}})\n",
    "g.set_axis_labels(\"$H_{CO_2}$ [g/(g-bar)]\", \"$H_{SO_2}$ [g/(g-bar)]\", fontsize=16)\n",
    "\n",
    "g.ax_joint.cla() # or g.ax_joint.collections[0].set_visible(False), as per mwaskom's comment\n",
    "\n",
    "# set the current axis to be the joint plot's axis\n",
    "plt.sca(g.ax_joint)\n",
    "# plt.xlim(xmin=0)\n",
    "# plt.ylim(ymin=0)\n",
    "plt.xlabel(\"$H_{CO_2}$ [g/(g-bar)]\")\n",
    "plt.ylabel(\"$H_{SO_2}$ [g/(g-bar)]\")\n",
    "\n",
    "markers = [\">\", \"<\", \"8\", \"v\", \"H\", \"p\", \"o\", \"d\", \"^\", \"s\", \"D\", \"*\"]\n",
    "for i in range(df.shape[0]):\n",
    "    blah = plt.plot(df[\"H_CO2 [g/(g-bar)]\"].iloc[i], df[\"H_SO2 [g/(g-bar)]\"].iloc[i], \n",
    "                    marker=markers[i], ms=10, \n",
    "                    label=formatted_crystal_names[df[\"crystal\"].iloc[i]],\n",
    "                    linestyle=\"none\", markevery=1,\n",
    "                    markerfacecolor=\"none\",\n",
    "                    markeredgewidth=2.0,\n",
    "                    clip_on=False, zorder=100)\n",
    "plt.legend()\n",
    "plt.savefig(\"henry_coeff_scatter_plot_marginal_distn.pdf\", format=\"pdf\")"
   ]
  },
  {
   "cell_type": "code",
   "execution_count": null,
   "metadata": {},
   "outputs": [],
   "source": []
  }
 ],
 "metadata": {
  "kernelspec": {
   "display_name": "Python 3",
   "language": "python",
   "name": "python3"
  },
  "language_info": {
   "codemirror_mode": {
    "name": "ipython",
    "version": 3
   },
   "file_extension": ".py",
   "mimetype": "text/x-python",
   "name": "python",
   "nbconvert_exporter": "python",
   "pygments_lexer": "ipython3",
   "version": "3.6.7"
  }
 },
 "nbformat": 4,
 "nbformat_minor": 2
}
