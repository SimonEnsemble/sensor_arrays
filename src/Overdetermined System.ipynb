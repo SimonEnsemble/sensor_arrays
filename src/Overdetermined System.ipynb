{
 "cells": [
  {
   "cell_type": "code",
   "execution_count": 2,
   "metadata": {
    "collapsed": true
   },
   "outputs": [
    {
     "name": "stdout",
     "output_type": "stream",
     "text": [
      "\u001b[32m\u001b[1m  Updating\u001b[22m\u001b[39m registry at `C:\\Users\\Rachel\\.julia\\registries\\General`\n",
      "\u001b[32m\u001b[1m  Updating\u001b[22m\u001b[39m git-repo `https://github.com/JuliaRegistries/General.git`\n",
      "\u001b[2K\u001b[?25h[1mFetching:\u001b[22m\u001b[39m [========================================>]  99.9 %0.0 % [=>                                       ]  0.6 %3 % %5.2 %5.3 % [===>                                     ]  5.4 % %>                                     ]  6.2 %]  9.0 %0 %\u001b[36m\u001b[1mFetching:\u001b[22m\u001b[39m [======>                                  ]  13.1 %                                  ]  13.3 %\u001b[36m\u001b[1mFetching:\u001b[22m\u001b[39m [=======>                                 ]  16.7 %\u001b[36m\u001b[1mFetching:\u001b[22m\u001b[39m [========>                                ]  17.7 %=========>                               ]  22.5 %                              ]  23.5 %==========>                              ]  24.6 %\u001b[36m\u001b[1mFetching:\u001b[22m\u001b[39m [============>                            ]  27.6 % [============>                            ]  29.5 %                           ]  30.7 %\u001b[36m\u001b[1mFetching:\u001b[22m\u001b[39m [==============>                          ]  32.7 %\u001b[36m\u001b[1mFetching:\u001b[22m\u001b[39m [==============>                          ]  33.2 %\u001b[36m\u001b[1mFetching:\u001b[22m\u001b[39m [==============>                          ]  34.1 % %\u001b[36m\u001b[1mFetching:\u001b[22m\u001b[39m [===============>                         ]  35.7 %\u001b[36m\u001b[1mFetching:\u001b[22m\u001b[39m [===============>                         ]  35.9 %\u001b[36m\u001b[1mFetching:\u001b[22m\u001b[39m [================>                        ]  38.3 %2 %\u001b[36m\u001b[1mFetching:\u001b[22m\u001b[39m [==================>                      ]  43.6 %7 %===================>                     ]  47.0 %\u001b[36m\u001b[1mFetching:\u001b[22m\u001b[39m [======================>                  ]  52.8 %>                 ]  55.3 % [=======================>                 ]  55.4 %3 %\u001b[36m\u001b[1mFetching:\u001b[22m\u001b[39m [=======================>                 ]  56.7 %\u001b[36m\u001b[1mFetching:\u001b[22m\u001b[39m [========================>                ]  58.0 %\u001b[36m\u001b[1mFetching:\u001b[22m\u001b[39m [========================>                ]  59.2 %               ]  62.3 %>             ]  66.8 % [=============================>           ]  70.4 %6 % %\u001b[36m\u001b[1mFetching:\u001b[22m\u001b[39m [===============================>         ]  75.5 %\u001b[36m\u001b[1mFetching:\u001b[22m\u001b[39m [===============================>         ]  76.5 % [=================================>       ]  80.2 %.2 %81.8 %==================================>      ]  83.6 %\u001b[36m\u001b[1mFetching:\u001b[22m\u001b[39m [===================================>     ]  85.3 %\u001b[36m\u001b[1mFetching:\u001b[22m\u001b[39m [===================================>     ]  86.6 %\u001b[36m\u001b[1mFetching:\u001b[22m\u001b[39m [=====================================>   ]  90.0 %93.7 %  ]  94.8 % ]  96.2 %]  97.6 %]  98.9 %\u001b[32m\u001b[1m Resolving\u001b[22m\u001b[39m package versions...\n",
      "\u001b[32m\u001b[1m Installed\u001b[22m\u001b[39m MatrixFactorizations ──────── v0.0.4\n",
      "\u001b[32m\u001b[1m Installed\u001b[22m\u001b[39m PDMats ────────────────────── v0.9.7\n",
      "\u001b[32m\u001b[1m Installed\u001b[22m\u001b[39m Tokenize ──────────────────── v0.5.3\n",
      "\u001b[32m\u001b[1m Installed\u001b[22m\u001b[39m DocStringExtensions ───────── v0.7.0\n",
      "\u001b[32m\u001b[1m Installed\u001b[22m\u001b[39m StatsModels ───────────────── v0.5.0\n",
      "\u001b[32m\u001b[1m Installed\u001b[22m\u001b[39m TranscodingStreams ────────── v0.9.4\n",
      "\u001b[32m\u001b[1m Installed\u001b[22m\u001b[39m Roots ─────────────────────── v0.8.1\n",
      "\u001b[32m\u001b[1m Installed\u001b[22m\u001b[39m Distributions ─────────────── v0.18.0\n",
      "\u001b[32m\u001b[1m Installed\u001b[22m\u001b[39m VectorizedRoutines ────────── v0.1.0\n",
      "\u001b[32m\u001b[1m Installed\u001b[22m\u001b[39m ExponentialUtilities ──────── v1.4.0\n",
      "\u001b[32m\u001b[1m Installed\u001b[22m\u001b[39m Tables ────────────────────── v0.2.0\n",
      "\u001b[32m\u001b[1m Installed\u001b[22m\u001b[39m Distances ─────────────────── v0.8.0\n",
      "\u001b[32m\u001b[1m Installed\u001b[22m\u001b[39m ParameterizedFunctions ────── v4.1.1\n",
      "\u001b[32m\u001b[1m Installed\u001b[22m\u001b[39m BenchmarkTools ────────────── v0.4.2\n",
      "\u001b[32m\u001b[1m Installed\u001b[22m\u001b[39m GLM ───────────────────────── v1.1.1\n",
      "\u001b[32m\u001b[1m Installed\u001b[22m\u001b[39m SoftGlobalScope ───────────── v1.0.10\n",
      "\u001b[32m\u001b[1m Installed\u001b[22m\u001b[39m DiffResults ───────────────── v0.0.4\n",
      "\u001b[32m\u001b[1m Installed\u001b[22m\u001b[39m DiffEqDiffTools ───────────── v0.8.1\n",
      "\u001b[32m\u001b[1m Installed\u001b[22m\u001b[39m NLsolve ───────────────────── v4.0.0\n",
      "\u001b[32m\u001b[1m Installed\u001b[22m\u001b[39m DiffEqJump ────────────────── v6.1.1\n",
      "\u001b[32m\u001b[1m Installed\u001b[22m\u001b[39m ForwardDiff ───────────────── v0.10.3\n",
      "\u001b[32m\u001b[1m Installed\u001b[22m\u001b[39m Flux ──────────────────────── v0.8.3\n",
      "\u001b[32m\u001b[1m Installed\u001b[22m\u001b[39m GR ────────────────────────── v0.39.1\n",
      "\u001b[32m\u001b[1m Installed\u001b[22m\u001b[39m PooledArrays ──────────────── v0.5.1\n",
      "\u001b[32m\u001b[1m Installed\u001b[22m\u001b[39m FillArrays ────────────────── v0.6.1\n",
      "\u001b[32m\u001b[1m Installed\u001b[22m\u001b[39m Compat ────────────────────── v2.1.0\n",
      "\u001b[32m\u001b[1m Installed\u001b[22m\u001b[39m ZipFile ───────────────────── v0.8.1\n",
      "\u001b[32m\u001b[1m Installed\u001b[22m\u001b[39m NLSolversBase ─────────────── v7.3.1\n",
      "\u001b[32m\u001b[1m Installed\u001b[22m\u001b[39m DiffEqBiological ──────────── v3.7.2\n",
      "\u001b[32m\u001b[1m Installed\u001b[22m\u001b[39m PlotUtils ─────────────────── v0.5.8\n",
      "\u001b[32m\u001b[1m Installed\u001b[22m\u001b[39m StatsFuns ─────────────────── v0.8.0\n",
      "\u001b[32m\u001b[1m Installed\u001b[22m\u001b[39m Conda ─────────────────────── v1.2.0\n",
      "\u001b[32m\u001b[1m Installed\u001b[22m\u001b[39m Juno ──────────────────────── v0.7.0\n",
      "\u001b[32m\u001b[1m Installed\u001b[22m\u001b[39m CodecZlib ─────────────────── v0.5.2\n",
      "\u001b[32m\u001b[1m Installed\u001b[22m\u001b[39m TimerOutputs ──────────────── v0.5.0\n",
      "\u001b[32m\u001b[1m Installed\u001b[22m\u001b[39m BinaryProvider ────────────── v0.5.4\n",
      "\u001b[32m\u001b[1m Installed\u001b[22m\u001b[39m OrderedCollections ────────── v1.1.0\n",
      "\u001b[32m\u001b[1m Installed\u001b[22m\u001b[39m NNlib ─────────────────────── v0.6.0\n",
      "\u001b[32m\u001b[1m Installed\u001b[22m\u001b[39m DiffEqNoiseProcess ────────── v3.1.0\n",
      "\u001b[32m\u001b[1m Installed\u001b[22m\u001b[39m IteratorInterfaceExtensions ─ v1.0.0\n",
      "\u001b[32m\u001b[1m Installed\u001b[22m\u001b[39m EllipsisNotation ──────────── v0.4.0\n",
      "\u001b[32m\u001b[1m Installed\u001b[22m\u001b[39m BoundaryValueDiffEq ───────── v2.2.3\n",
      "\u001b[32m\u001b[1m Installed\u001b[22m\u001b[39m DiffEqSensitivity ─────────── v3.2.2\n",
      "\u001b[32m\u001b[1m Installed\u001b[22m\u001b[39m Dierckx ───────────────────── v0.4.1\n",
      "\u001b[32m\u001b[1m Installed\u001b[22m\u001b[39m Tracker ───────────────────── v0.2.0\n",
      "\u001b[32m\u001b[1m Installed\u001b[22m\u001b[39m CategoricalArrays ─────────── v0.5.2\n",
      "\u001b[32m\u001b[1m Installed\u001b[22m\u001b[39m DataFrames ────────────────── v0.18.1\n",
      "\u001b[32m\u001b[1m Installed\u001b[22m\u001b[39m StaticArrays ──────────────── v0.10.3\n",
      "\u001b[32m\u001b[1m Installed\u001b[22m\u001b[39m LazyArrays ────────────────── v0.8.1\n",
      "\u001b[32m\u001b[1m Installed\u001b[22m\u001b[39m StatsBase ─────────────────── v0.30.0\n",
      "\u001b[32m\u001b[1m Installed\u001b[22m\u001b[39m IterativeSolvers ──────────── v0.8.1\n",
      "\u001b[32m\u001b[1m Installed\u001b[22m\u001b[39m RandomNumbers ─────────────── v1.2.0\n",
      "\u001b[32m\u001b[1m Installed\u001b[22m\u001b[39m LsqFit ────────────────────── v0.8.1\n",
      "\u001b[32m\u001b[1m Installed\u001b[22m\u001b[39m ArrayInterface ────────────── v0.1.1\n",
      "\u001b[32m\u001b[1m Installed\u001b[22m\u001b[39m OrdinaryDiffEq ────────────── v5.6.0\n",
      "\u001b[32m\u001b[1m Installed\u001b[22m\u001b[39m DiffEqDevTools ────────────── v2.7.2\n",
      "\u001b[32m\u001b[1m Installed\u001b[22m\u001b[39m MbedTLS ───────────────────── v0.6.8\n",
      "\u001b[32m\u001b[1m Installed\u001b[22m\u001b[39m BandedMatrices ────────────── v0.9.1\n",
      "\u001b[32m\u001b[1m Installed\u001b[22m\u001b[39m Crayons ───────────────────── v4.0.0\n",
      "\u001b[32m\u001b[1m Installed\u001b[22m\u001b[39m CSTParser ─────────────────── v0.5.2\n",
      "\u001b[32m\u001b[1m Installed\u001b[22m\u001b[39m RecursiveFactorization ────── v0.0.1\n",
      "\u001b[32m\u001b[1m Installed\u001b[22m\u001b[39m DiffEqBase ────────────────── v5.7.0\n",
      "\u001b[32m\u001b[1m Installed\u001b[22m\u001b[39m DiffEqParamEstim ──────────── v1.6.0\n",
      "\u001b[32m\u001b[1m Installed\u001b[22m\u001b[39m DelayDiffEq ───────────────── v5.2.0\n",
      "\u001b[32m\u001b[1m Installed\u001b[22m\u001b[39m StochasticDiffEq ──────────── v6.1.1\n",
      "\u001b[32m\u001b[1m Installed\u001b[22m\u001b[39m TableTraits ───────────────── v1.0.0\n",
      "\u001b[32m\u001b[1m Installed\u001b[22m\u001b[39m MacroTools ────────────────── v0.5.0\n",
      "\u001b[32m\u001b[1m Installed\u001b[22m\u001b[39m Sundials ──────────────────── v3.3.0\n",
      "\u001b[32m\u001b[1m Installed\u001b[22m\u001b[39m DiffRules ─────────────────── v0.0.10\n",
      "\u001b[32m\u001b[1m  Updating\u001b[22m\u001b[39m `C:\\Users\\Rachel\\.julia\\environments\\v1.0\\Project.toml`\n",
      " \u001b[90m [429524aa]\u001b[39m\u001b[92m + Optim v0.17.2\u001b[39m\n",
      "\u001b[32m\u001b[1m  Updating\u001b[22m\u001b[39m `C:\\Users\\Rachel\\.julia\\environments\\v1.0\\Manifest.toml`\n",
      " \u001b[90m [4fba245c]\u001b[39m\u001b[93m ↑ ArrayInterface v0.1.0 ⇒ v0.1.1\u001b[39m\n",
      " \u001b[90m [aae01518]\u001b[39m\u001b[93m ↑ BandedMatrices v0.8.1 ⇒ v0.9.1\u001b[39m\n",
      " \u001b[90m [6e4b80f9]\u001b[39m\u001b[92m + BenchmarkTools v0.4.2\u001b[39m\n",
      " \u001b[90m [b99e7846]\u001b[39m\u001b[93m ↑ BinaryProvider v0.5.3 ⇒ v0.5.4\u001b[39m\n",
      " \u001b[90m [a134a8b2]\u001b[39m\u001b[91m - BlackBoxOptim v0.4.0\u001b[39m\n",
      " \u001b[90m [764a87c0]\u001b[39m\u001b[93m ↑ BoundaryValueDiffEq v2.2.1 ⇒ v2.2.3\u001b[39m\n",
      " \u001b[90m [a9c8d775]\u001b[39m\u001b[91m - CPUTime v0.1.0\u001b[39m\n",
      " \u001b[90m [00ebfdb7]\u001b[39m\u001b[92m + CSTParser v0.5.2\u001b[39m\n",
      " \u001b[90m [324d7699]\u001b[39m\u001b[92m + CategoricalArrays v0.5.2\u001b[39m\n",
      " \u001b[90m [944b1d66]\u001b[39m\u001b[93m ↑ CodecZlib v0.5.1 ⇒ v0.5.2\u001b[39m\n",
      " \u001b[90m [34da2185]\u001b[39m\u001b[93m ↑ Compat v1.4.0 ⇒ v2.1.0\u001b[39m\n",
      " \u001b[90m [8f4d0f93]\u001b[39m\u001b[93m ↑ Conda v1.1.1 ⇒ v1.2.0\u001b[39m\n",
      " \u001b[90m [a8cc5b0e]\u001b[39m\u001b[92m + Crayons v4.0.0\u001b[39m\n",
      " \u001b[90m [a93c6f00]\u001b[39m\u001b[92m + DataFrames v0.18.1\u001b[39m\n",
      " \u001b[90m [bcd4f6db]\u001b[39m\u001b[93m ↑ DelayDiffEq v4.8.0 ⇒ v5.2.0\u001b[39m\n"
     ]
    },
    {
     "name": "stdout",
     "output_type": "stream",
     "text": [
      " \u001b[90m [39dd38d3]\u001b[39m\u001b[92m + Dierckx v0.4.1\u001b[39m\n",
      " \u001b[90m [c5cfe0b6]\u001b[39m\u001b[91m - DiffBase v0.3.2\u001b[39m\n",
      " \u001b[90m [2b5f629d]\u001b[39m\u001b[93m ↑ DiffEqBase v4.32.0 ⇒ v5.7.0\u001b[39m\n",
      " \u001b[90m [eb300fae]\u001b[39m\u001b[93m ↑ DiffEqBiological v3.5.0 ⇒ v3.7.2\u001b[39m\n",
      " \u001b[90m [f3b72e0c]\u001b[39m\u001b[93m ↑ DiffEqDevTools v2.6.1 ⇒ v2.7.2\u001b[39m\n",
      " \u001b[90m [01453d9d]\u001b[39m\u001b[93m ↑ DiffEqDiffTools v0.7.1 ⇒ v0.8.1\u001b[39m\n",
      " \u001b[90m [c894b116]\u001b[39m\u001b[93m ↑ DiffEqJump v5.8.0 ⇒ v6.1.1\u001b[39m\n",
      " \u001b[90m [77a26b50]\u001b[39m\u001b[93m ↑ DiffEqNoiseProcess v2.4.2 ⇒ v3.1.0\u001b[39m\n",
      " \u001b[90m [1130ab10]\u001b[39m\u001b[93m ↑ DiffEqParamEstim v1.5.1 ⇒ v1.6.0\u001b[39m\n",
      " \u001b[90m [41bf760c]\u001b[39m\u001b[93m ↑ DiffEqSensitivity v3.0.0 ⇒ v3.2.2\u001b[39m\n",
      " \u001b[90m [163ba53b]\u001b[39m\u001b[93m ↑ DiffResults v0.0.3 ⇒ v0.0.4\u001b[39m\n",
      " \u001b[90m [b552c78f]\u001b[39m\u001b[93m ↑ DiffRules v0.0.7 ⇒ v0.0.10\u001b[39m\n",
      " \u001b[90m [b4f34e82]\u001b[39m\u001b[93m ↑ Distances v0.7.4 ⇒ v0.8.0\u001b[39m\n",
      " \u001b[90m [31c24e10]\u001b[39m\u001b[93m ↑ Distributions v0.16.4 ⇒ v0.18.0\u001b[39m\n",
      " \u001b[90m [ffbed154]\u001b[39m\u001b[92m + DocStringExtensions v0.7.0\u001b[39m\n",
      " \u001b[90m [da5c29d0]\u001b[39m\u001b[93m ↑ EllipsisNotation v0.3.0 ⇒ v0.4.0\u001b[39m\n",
      " \u001b[90m [d4d017d3]\u001b[39m\u001b[93m ↑ ExponentialUtilities v1.3.0 ⇒ v1.4.0\u001b[39m\n",
      " \u001b[90m [1a297f60]\u001b[39m\u001b[93m ↑ FillArrays v0.4.0 ⇒ v0.6.1\u001b[39m\n",
      " \u001b[90m [587475ba]\u001b[39m\u001b[93m ↑ Flux v0.7.1 ⇒ v0.8.3\u001b[39m\n",
      " \u001b[90m [f6369f11]\u001b[39m\u001b[93m ↑ ForwardDiff v0.10.2 ⇒ v0.10.3\u001b[39m\n",
      " \u001b[90m [38e38edf]\u001b[39m\u001b[92m + GLM v1.1.1\u001b[39m\n",
      " \u001b[90m [28b8d3ca]\u001b[39m\u001b[93m ↑ GR v0.37.0 ⇒ v0.39.1\u001b[39m\n",
      " \u001b[90m [42fd0dbc]\u001b[39m\u001b[92m + IterativeSolvers v0.8.1\u001b[39m\n",
      " \u001b[90m [82899510]\u001b[39m\u001b[93m ↑ IteratorInterfaceExtensions v0.1.1 ⇒ v1.0.0\u001b[39m\n",
      " \u001b[90m [e5e0dc1b]\u001b[39m\u001b[93m ↑ Juno v0.5.4 ⇒ v0.7.0\u001b[39m\n",
      " \u001b[90m [5078a376]\u001b[39m\u001b[93m ↑ LazyArrays v0.5.1 ⇒ v0.8.1\u001b[39m\n",
      " \u001b[90m [2fda8390]\u001b[39m\u001b[93m ↑ LsqFit v0.6.0 ⇒ v0.8.1\u001b[39m\n",
      " \u001b[90m [1914dd2f]\u001b[39m\u001b[93m ↑ MacroTools v0.4.4 ⇒ v0.5.0\u001b[39m\n",
      " \u001b[90m [a3b82374]\u001b[39m\u001b[92m + MatrixFactorizations v0.0.4\u001b[39m\n",
      " \u001b[90m [739be429]\u001b[39m\u001b[93m ↑ MbedTLS v0.6.6 ⇒ v0.6.8\u001b[39m\n",
      " \u001b[90m [d41bc354]\u001b[39m\u001b[93m ↑ NLSolversBase v7.1.2 ⇒ v7.3.1\u001b[39m\n",
      " \u001b[90m [2774e3e8]\u001b[39m\u001b[93m ↑ NLsolve v3.0.1 ⇒ v4.0.0\u001b[39m\n",
      " \u001b[90m [872c559c]\u001b[39m\u001b[93m ↑ NNlib v0.4.3 ⇒ v0.6.0\u001b[39m\n",
      " \u001b[90m [bac558e1]\u001b[39m\u001b[93m ↑ OrderedCollections v1.0.2 ⇒ v1.1.0\u001b[39m\n",
      " \u001b[90m [1dea7af3]\u001b[39m\u001b[93m ↑ OrdinaryDiffEq v4.21.1 ⇒ v5.6.0\u001b[39m\n",
      " \u001b[90m [90014a1f]\u001b[39m\u001b[93m ↑ PDMats v0.9.6 ⇒ v0.9.7\u001b[39m\n",
      " \u001b[90m [65888b18]\u001b[39m\u001b[93m ↑ ParameterizedFunctions v4.0.0 ⇒ v4.1.1\u001b[39m\n",
      " \u001b[90m [995b91a9]\u001b[39m\u001b[93m ↑ PlotUtils v0.5.5 ⇒ v0.5.8\u001b[39m\n",
      " \u001b[90m [2dfb63ee]\u001b[39m\u001b[92m + PooledArrays v0.5.1\u001b[39m\n",
      " \u001b[90m [e6cf234a]\u001b[39m\u001b[93m ↑ RandomNumbers v1.0.3 ⇒ v1.2.0\u001b[39m\n",
      " \u001b[90m [f2c3362d]\u001b[39m\u001b[92m + RecursiveFactorization v0.0.1\u001b[39m\n",
      " \u001b[90m [f2b01f46]\u001b[39m\u001b[93m ↑ Roots v0.7.4 ⇒ v0.8.1\u001b[39m\n",
      " \u001b[90m [b85f4697]\u001b[39m\u001b[93m ↑ SoftGlobalScope v1.0.9 ⇒ v1.0.10\u001b[39m\n",
      " \u001b[90m [90137ffa]\u001b[39m\u001b[93m ↑ StaticArrays v0.10.2 ⇒ v0.10.3\u001b[39m\n",
      " \u001b[90m [2913bbd2]\u001b[39m\u001b[93m ↑ StatsBase v0.27.0 ⇒ v0.30.0\u001b[39m\n",
      " \u001b[90m [4c63d2b9]\u001b[39m\u001b[93m ↑ StatsFuns v0.7.0 ⇒ v0.8.0\u001b[39m\n",
      " \u001b[90m [3eaba693]\u001b[39m\u001b[92m + StatsModels v0.5.0\u001b[39m\n",
      " \u001b[90m [789caeaf]\u001b[39m\u001b[93m ↑ StochasticDiffEq v5.12.0 ⇒ v6.1.1\u001b[39m\n",
      " \u001b[90m [c3572dad]\u001b[39m\u001b[93m ↑ Sundials v2.7.0 ⇒ v3.3.0\u001b[39m\n",
      " \u001b[90m [3783bdb8]\u001b[39m\u001b[93m ↑ TableTraits v0.4.1 ⇒ v1.0.0\u001b[39m\n",
      " \u001b[90m [bd369af6]\u001b[39m\u001b[92m + Tables v0.2.0\u001b[39m\n",
      " \u001b[90m [a759f4b9]\u001b[39m\u001b[92m + TimerOutputs v0.5.0\u001b[39m\n",
      " \u001b[90m [0796e94c]\u001b[39m\u001b[92m + Tokenize v0.5.3\u001b[39m\n",
      " \u001b[90m [9f7883ad]\u001b[39m\u001b[92m + Tracker v0.2.0\u001b[39m\n",
      " \u001b[90m [3bb67fe8]\u001b[39m\u001b[93m ↑ TranscodingStreams v0.8.1 ⇒ v0.9.4\u001b[39m\n",
      " \u001b[90m [0e69188a]\u001b[39m\u001b[93m ↑ VectorizedRoutines v0.0.2 ⇒ v0.1.0\u001b[39m\n",
      " \u001b[90m [a5390f91]\u001b[39m\u001b[93m ↑ ZipFile v0.8.0 ⇒ v0.8.1\u001b[39m\n",
      " \u001b[90m [9fa8497b]\u001b[39m\u001b[92m + Future \u001b[39m\n",
      "\u001b[32m\u001b[1m  Building\u001b[22m\u001b[39m GR ───────→ `C:\\Users\\Rachel\\.julia\\packages\\GR\\KGODl\\deps\\build.log`\n",
      "\u001b[32m\u001b[1m  Building\u001b[22m\u001b[39m ZipFile ──→ `C:\\Users\\Rachel\\.julia\\packages\\ZipFile\\YHTbb\\deps\\build.log`\n",
      "\u001b[32m\u001b[1m  Building\u001b[22m\u001b[39m Conda ────→ `C:\\Users\\Rachel\\.julia\\packages\\Conda\\CpuvI\\deps\\build.log`\n",
      "\u001b[32m\u001b[1m  Building\u001b[22m\u001b[39m CodecZlib → `C:\\Users\\Rachel\\.julia\\packages\\CodecZlib\\9jDi1\\deps\\build.log`\n",
      "\u001b[32m\u001b[1m  Building\u001b[22m\u001b[39m Dierckx ──→ `C:\\Users\\Rachel\\.julia\\packages\\Dierckx\\9SY4A\\deps\\build.log`\n",
      "\u001b[32m\u001b[1m  Building\u001b[22m\u001b[39m MbedTLS ──→ `C:\\Users\\Rachel\\.julia\\packages\\MbedTLS\\X4xar\\deps\\build.log`\n",
      "\u001b[32m\u001b[1m  Building\u001b[22m\u001b[39m Sundials ─→ `C:\\Users\\Rachel\\.julia\\packages\\Sundials\\eAJ5O\\deps\\build.log`\n"
     ]
    }
   ],
   "source": [
    "import Pkg; Pkg.add(\"Optim\")\n",
    "import Pkg; Pkg.add(\"CSV\")\n",
    "import Pkg; Pkg.add(\"DataFrames\")\n",
    "import Pkg; Pkg.add(\"PyPlot\")\n",
    "import Pkg; Pkg.add(\"LaTeXStrings\")\n",
    "import Pkg; Pkg.add(\"Statisitics\")"
   ]
  },
  {
   "cell_type": "code",
   "execution_count": 1,
   "metadata": {},
   "outputs": [],
   "source": [
    "using Optim\n",
    "using CSV\n",
    "using DataFrames\n",
    "using PyPlot\n",
    "using LaTeXStrings\n",
    "using Printf\n",
    "using LinearAlgebra\n",
    "using Statistics"
   ]
  },
  {
   "cell_type": "code",
   "execution_count": 2,
   "metadata": {},
   "outputs": [
    {
     "data": {
      "text/html": [
       "<table class=\"data-frame\"><thead><tr><th></th><th>crystal</th><th>CO2_henry coefficient [mmol/(g-bar)]</th><th>CO2_Temperature [K]</th><th>SO2_henry coefficient [mmol/(g-bar)]</th></tr><tr><th></th><th>String⍰</th><th>Float64⍰</th><th>Int64⍰</th><th>Float64⍰</th></tr></thead><tbody><p>12 rows × 5 columns (omitted printing of 1 columns)</p><tr><th>1</th><td>MFM601</td><td>1.3703</td><td>298</td><td>97.2407</td></tr><tr><th>2</th><td>Zn-bdc-ted</td><td>2.15867</td><td>298</td><td>19.1696</td></tr><tr><th>3</th><td>Ni-bdc-ted</td><td>2.2069</td><td>298</td><td>40.402</td></tr><tr><th>4</th><td>NOTT-202a</td><td>3.27573</td><td>293</td><td>153.6</td></tr><tr><th>5</th><td>MFM600</td><td>1.41883</td><td>298</td><td>34.7973</td></tr><tr><th>6</th><td>NOTT-300</td><td>7.96526</td><td>293</td><td>483.864</td></tr><tr><th>7</th><td>MFM-300-In</td><td>4.60751</td><td>298</td><td>171.432</td></tr><tr><th>8</th><td>Zn-CN6</td><td>5.17058</td><td>298</td><td>4.36483</td></tr><tr><th>9</th><td>Mg-MOF-74</td><td>198.82</td><td>293</td><td>150.413</td></tr><tr><th>10</th><td>Co-CN6</td><td>2.44093</td><td>298</td><td>11.6921</td></tr><tr><th>11</th><td>KAUST7</td><td>261.691</td><td>298</td><td>23.8795</td></tr><tr><th>12</th><td>KAUST8</td><td>163.184</td><td>298</td><td>17.7216</td></tr></tbody></table>"
      ],
      "text/latex": [
       "\\begin{tabular}{r|ccccc}\n",
       "\t& crystal & CO2\\_henry coefficient [mmol/(g-bar)] & CO2\\_Temperature [K] & SO2\\_henry coefficient [mmol/(g-bar)] & \\\\\n",
       "\t\\hline\n",
       "\t& String⍰ & Float64⍰ & Int64⍰ & Float64⍰ & \\\\\n",
       "\t\\hline\n",
       "\t1 & MFM601 & 1.3703 & 298 & 97.2407 & $\\dots$ \\\\\n",
       "\t2 & Zn-bdc-ted & 2.15867 & 298 & 19.1696 & $\\dots$ \\\\\n",
       "\t3 & Ni-bdc-ted & 2.2069 & 298 & 40.402 & $\\dots$ \\\\\n",
       "\t4 & NOTT-202a & 3.27573 & 293 & 153.6 & $\\dots$ \\\\\n",
       "\t5 & MFM600 & 1.41883 & 298 & 34.7973 & $\\dots$ \\\\\n",
       "\t6 & NOTT-300 & 7.96526 & 293 & 483.864 & $\\dots$ \\\\\n",
       "\t7 & MFM-300-In & 4.60751 & 298 & 171.432 & $\\dots$ \\\\\n",
       "\t8 & Zn-CN6 & 5.17058 & 298 & 4.36483 & $\\dots$ \\\\\n",
       "\t9 & Mg-MOF-74 & 198.82 & 293 & 150.413 & $\\dots$ \\\\\n",
       "\t10 & Co-CN6 & 2.44093 & 298 & 11.6921 & $\\dots$ \\\\\n",
       "\t11 & KAUST7 & 261.691 & 298 & 23.8795 & $\\dots$ \\\\\n",
       "\t12 & KAUST8 & 163.184 & 298 & 17.7216 & $\\dots$ \\\\\n",
       "\\end{tabular}\n"
      ],
      "text/plain": [
       "12×5 DataFrame. Omitted printing of 3 columns\n",
       "│ Row │ crystal    │ CO2_henry coefficient [mmol/(g-bar)] │\n",
       "│     │ \u001b[90mString⍰\u001b[39m    │ \u001b[90mUnion{Missing, Float64}\u001b[39m              │\n",
       "├─────┼────────────┼──────────────────────────────────────┤\n",
       "│ 1   │ MFM601     │ 1.3703                               │\n",
       "│ 2   │ Zn-bdc-ted │ 2.15867                              │\n",
       "│ 3   │ Ni-bdc-ted │ 2.2069                               │\n",
       "│ 4   │ NOTT-202a  │ 3.27573                              │\n",
       "│ 5   │ MFM600     │ 1.41883                              │\n",
       "│ 6   │ NOTT-300   │ 7.96526                              │\n",
       "│ 7   │ MFM-300-In │ 4.60751                              │\n",
       "│ 8   │ Zn-CN6     │ 5.17058                              │\n",
       "│ 9   │ Mg-MOF-74  │ 198.82                               │\n",
       "│ 10  │ Co-CN6     │ 2.44093                              │\n",
       "│ 11  │ KAUST7     │ 261.691                              │\n",
       "│ 12  │ KAUST8     │ 163.184                              │"
      ]
     },
     "execution_count": 2,
     "metadata": {},
     "output_type": "execute_result"
    }
   ],
   "source": [
    "df_henry = CSV.read(\"../data/henry_constants.csv\")"
   ]
  },
  {
   "cell_type": "code",
   "execution_count": 3,
   "metadata": {},
   "outputs": [
    {
     "data": {
      "text/html": [
       "<p>DataFrameRow</p><table class=\"data-frame\"><thead><tr><th></th><th>crystal</th><th>CO2_henry coefficient [mmol/(g-bar)]</th><th>CO2_Temperature [K]</th><th>SO2_henry coefficient [mmol/(g-bar)]</th></tr><tr><th></th><th>String⍰</th><th>Float64⍰</th><th>Int64⍰</th><th>Float64⍰</th></tr></thead><tbody><p>1 rows × 7 columns (omitted printing of 3 columns)</p><tr><th>1</th><td>MFM601</td><td>1.3703</td><td>298</td><td>97.2407</td></tr></tbody></table>"
      ],
      "text/latex": [
       "\\begin{tabular}{r|ccccc}\n",
       "\t& crystal & CO2\\_henry coefficient [mmol/(g-bar)] & CO2\\_Temperature [K] & SO2\\_henry coefficient [mmol/(g-bar)] & \\\\\n",
       "\t\\hline\n",
       "\t& String⍰ & Float64⍰ & Int64⍰ & Float64⍰ & \\\\\n",
       "\t\\hline\n",
       "\t1 & MFM601 & 1.3703 & 298 & 97.2407 & $\\dots$ \\\\\n",
       "\\end{tabular}\n"
      ],
      "text/plain": [
       "DataFrameRow. Omitted printing of 4 columns\n",
       "│ Row │ crystal │ CO2_henry coefficient [mmol/(g-bar)] │ CO2_Temperature [K] │\n",
       "│     │ \u001b[90mString⍰\u001b[39m │ \u001b[90mUnion{Missing, Float64}\u001b[39m              │ \u001b[90mInt64⍰\u001b[39m              │\n",
       "├─────┼─────────┼──────────────────────────────────────┼─────────────────────┤\n",
       "│ 1   │ MFM601  │ 1.3703                               │ 298                 │"
      ]
     },
     "execution_count": 3,
     "metadata": {},
     "output_type": "execute_result"
    }
   ],
   "source": [
    "mw = Dict(\"CO2\" => 44.01, \"SO2\" => 64.066)\n",
    "for gas in [\"CO2\", \"SO2\"]\n",
    "    df_henry[Symbol(\"H_$gas [g/(g-bar)]\")] = df_henry[Symbol(gas * \"_henry coefficient [mmol/(g-bar)]\")] * mw[gas] / 1000\n",
    "end\n",
    "\n",
    "first(df_henry)"
   ]
  },
  {
   "cell_type": "code",
   "execution_count": 4,
   "metadata": {},
   "outputs": [
    {
     "data": {
      "text/plain": [
       "2×2 Array{Float64,2}:\n",
       " 10.983    0.202777\n",
       "  9.63634  8.75008 "
      ]
     },
     "execution_count": 4,
     "metadata": {},
     "output_type": "execute_result"
    }
   ],
   "source": [
    "construct_H_matrix(mofs::Array{Int64, 1}, gases::Array{<:AbstractString, 1}) = [df_henry[mof, Symbol(\"H_\" * gas * \" [g/(g-bar)]\")] for mof in mofs, gas in gases]\n",
    "construct_H_matrix([7, 9], [\"SO2\", \"CO2\"])\n"
   ]
  },
  {
   "cell_type": "code",
   "execution_count": 16,
   "metadata": {},
   "outputs": [
    {
     "name": "stdout",
     "output_type": "stream",
     "text": [
      "There were 5223 values of δp3 that were greater than δp2.\n"
     ]
    }
   ],
   "source": [
    "# examines the 14,542 different combos of H2 and H3 matrices and compares δp2 to δp3\n",
    "# 12C2 = 66 different combos for H2, 12C3 = 220 different combos for H3 ---> 220*66 = 14,520 \n",
    "\n",
    "# δp3 > δp2\n",
    "p3GTp2 = 0\n",
    "for a=1:12\n",
    "    for b=a+1:12\n",
    "        H2 = construct_H_matrix([a,b], [\"CO2\", \"SO2\"])\n",
    "        F2 = svd(H2)\n",
    "        δp2 = 1 / F2.S[2] * sqrt(2)         # 1/F2.S[2] is the largest singluar value of H2^{-1}\n",
    "        # construct 3x2 matrix named H3\n",
    "        for i=1:12\n",
    "            for j=i+1:12\n",
    "                for k=j+1:12\n",
    "                    H3 = construct_H_matrix([i,j,k], [\"CO2\", \"SO2\"])\n",
    "                    F3 = svd(H3)\n",
    "                    δp3 = 1 / F3.S[2] * sqrt(3)\n",
    "                    # compare δp values\n",
    "                    if δp3 > δp2\n",
    "                        p3GTp2 += 1 \n",
    "                        #println(\"δp3 is greater than δp2 for: \")\n",
    "                        #println(\"H2: \", df_henry[:crystal][a], \", \", df_henry[:crystal][b])\n",
    "                        #println(\"H3: \", df_henry[:crystal][i], \", \", df_henry[:crystal][j], \", \", df_henry[:crystal][k], \"\\n\")\n",
    "                    end\n",
    "                end\n",
    "            end\n",
    "        end\n",
    "    end\n",
    "end\n",
    "println(\"There were \", p3GTp2, \" values of δp3 that were greater than δp2.\")"
   ]
  },
  {
   "cell_type": "code",
   "execution_count": 17,
   "metadata": {},
   "outputs": [
    {
     "name": "stdout",
     "output_type": "stream",
     "text": [
      "There were 9297 values of δp3 that were less than δp2.\n"
     ]
    }
   ],
   "source": [
    "# δp3 < δp2\n",
    "p3LTp2 = 0\n",
    "for a=1:12\n",
    "    for b=a+1:12\n",
    "        H2 = construct_H_matrix([a,b], [\"CO2\", \"SO2\"])\n",
    "        F2 = svd(H2)\n",
    "        δp2 = 1 / F2.S[2] * sqrt(2)         # 1/F2.S[2] is the largest singluar value of H2^{-1}\n",
    "        # construct 3x2 matrix named H3\n",
    "        for i=1:12\n",
    "            for j=i+1:12\n",
    "                for k=j+1:12\n",
    "                    H3 = construct_H_matrix([i,j,k], [\"CO2\", \"SO2\"])\n",
    "                    F3 = svd(H3)\n",
    "                    δp3 = 1 / F3.S[2] * sqrt(3)\n",
    "                    # compare δp values\n",
    "                    if δp3 < δp2\n",
    "                        p3LTp2 += 1 \n",
    "                        #println(\"δp3 is less than δp2 for: \")\n",
    "                        #println(\"H2: \", df_henry[:crystal][a], \", \", df_henry[:crystal][b])\n",
    "                        #println(\"H3: \", df_henry[:crystal][i], \", \", df_henry[:crystal][j], \", \", df_henry[:crystal][k], \"\\n\")\n",
    "                    end\n",
    "                end\n",
    "            end\n",
    "        end\n",
    "    end\n",
    "end\n",
    "println(\"There were \", p3LTp2, \" values of δp3 that were less than δp2.\")"
   ]
  },
  {
   "cell_type": "code",
   "execution_count": 8,
   "metadata": {},
   "outputs": [
    {
     "name": "stdout",
     "output_type": "stream",
     "text": [
      "330\n"
     ]
    },
    {
     "data": {
      "text/plain": [
       "12-element Array{Float64,1}:\n",
       " 31.0\n",
       " 31.0\n",
       " 31.0\n",
       " 35.0\n",
       " 40.0\n",
       " 28.0\n",
       " 29.0\n",
       " 26.0\n",
       " 16.0\n",
       " 31.0\n",
       " 16.0\n",
       " 16.0"
      ]
     },
     "execution_count": 8,
     "metadata": {},
     "output_type": "execute_result"
    }
   ],
   "source": [
    "# examines H matrices where the additional row on H3 is the MOF from row 2\n",
    "# 792 possibilities total (66*12)\n",
    "mof_count = zeros(12)\n",
    "num = 0\n",
    "for a=1:12\n",
    "    for b=a+1:12\n",
    "        H2 = construct_H_matrix([a,b], [\"CO2\", \"SO2\"])\n",
    "        F2 = svd(H2)\n",
    "        δp2 = 1 / F2.S[2] * sqrt(2)         # 1/F2.S[2] is the largest singluar value of H2^{-1}\n",
    "        for c=1:12\n",
    "            H3 = construct_H_matrix([a,b,c], [\"CO2\", \"SO2\"])\n",
    "            F3 = svd(H3)\n",
    "            δp3 = 1 / F3.S[2] * sqrt(3)\n",
    "            # compare δp values\n",
    "            if (δp3 > δp2)\n",
    "                num += 1\n",
    "                mof_count[c] += 1\n",
    "                #println(\"δp3 is greater than δp2 for: \")\n",
    "                #println(\"H2: \", df_henry[:crystal][a], \", \", df_henry[:crystal][b])\n",
    "                #println(\"H3: \", df_henry[:crystal][a], \", \", df_henry[:crystal][b], \", \", df_henry[:crystal][c], \"\\n\")\n",
    "            end\n",
    "        end\n",
    "    end\n",
    "end\n",
    "println(num)\n",
    "mof_count"
   ]
  },
  {
   "cell_type": "code",
   "execution_count": null,
   "metadata": {},
   "outputs": [],
   "source": []
  }
 ],
 "metadata": {
  "kernelspec": {
   "display_name": "Julia 1.0.1",
   "language": "julia",
   "name": "julia-1.0"
  },
  "language_info": {
   "file_extension": ".jl",
   "mimetype": "application/julia",
   "name": "julia",
   "version": "1.0.1"
  }
 },
 "nbformat": 4,
 "nbformat_minor": 2
}
